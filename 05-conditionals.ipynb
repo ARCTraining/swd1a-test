{
  "cells": [
    {
      "metadata": {},
      "cell_type": "markdown",
      "source": "## Decision making in Python"
    },
    {
      "metadata": {
        "trusted": true
      },
      "cell_type": "code",
      "source": "num = 37\nif num > 50:\n    print ('Pass')\nelse:\n    print ('Fail')\n",
      "execution_count": 1,
      "outputs": [
        {
          "output_type": "stream",
          "text": "Fail\n",
          "name": "stdout"
        }
      ]
    },
    {
      "metadata": {
        "trusted": true
      },
      "cell_type": "code",
      "source": "num = -5\n\nif num > 0:\n    print (num, 'is positive')\nelif num == 0:\n    print (num, 'is zero')\nelse:\n    print (num, 'is negative')",
      "execution_count": 2,
      "outputs": [
        {
          "output_type": "stream",
          "text": "-5 is negative\n",
          "name": "stdout"
        }
      ]
    },
    {
      "metadata": {
        "trusted": true
      },
      "cell_type": "code",
      "source": "# AND and OR\nif (1 > 0) and (-1 < 0):\n    print ('Both parts true')\nelse:\n    print ('One or more parts false')",
      "execution_count": 3,
      "outputs": [
        {
          "output_type": "stream",
          "text": "Both parts true\n",
          "name": "stdout"
        }
      ]
    },
    {
      "metadata": {
        "trusted": true
      },
      "cell_type": "code",
      "source": "if (1 < 0) or (-1 < 0):\n    print ('At least one part false')",
      "execution_count": 4,
      "outputs": [
        {
          "output_type": "stream",
          "text": "At least one part false\n",
          "name": "stdout"
        }
      ]
    },
    {
      "metadata": {
        "trusted": true
      },
      "cell_type": "code",
      "source": "# Identify dodgy data\n# Check if max inflammation on day 0 is 0 and 20 on day 20\n\nmax_inflammation_day0 = np.max(data, axis=0)[0]\nmax_inflammation_day20 = np.max(data, axis=0)[20]\n\nif max_inflammation_day0 == 0 and max_inflammation_day20 == 20:\n    print ('Strange looking maxima')\nelif np.sum(np.min(data, axis=0)) == 0:\n    print ('Minima add up to zero')\nelse:\n    print ('Looks OK...')",
      "execution_count": null,
      "outputs": []
    },
    {
      "metadata": {
        "trusted": true
      },
      "cell_type": "markdown",
      "source": "# Today (26/10/18)\n\n* Some Exercises from the 'Making Choices' episode (try at least 3):\nhttps://arctraining.github.io/swd1a-python/05-cond/\n  * How many paths?\n  * What is truth?\n  * That's not what I meant\n  * Close enough\n  * In-place operators\n  * Sorting a list into buckets\n  * Counting vowels\n\n* A quick look at version control and github\n* A recap on last week (the automated checker)\n* Functions and errors"
    },
    {
      "metadata": {
        "trusted": true
      },
      "cell_type": "code",
      "source": "sentence = 'My hovercraft is full of eels' \nvowels = 'aeiouAEIOU'\n\ncounter = 0\n\nfor char in sentence:\n    if char in vowels:\n        counter += 1\n        \nprint ('The number of vowels is ' + str(counter))",
      "execution_count": 5,
      "outputs": [
        {
          "output_type": "stream",
          "text": "The number of vowels is 8\n",
          "name": "stdout"
        }
      ]
    },
    {
      "metadata": {
        "trusted": true
      },
      "cell_type": "code",
      "source": "# Sorting a list into buckets (categories)\n!ls -l data/",
      "execution_count": 8,
      "outputs": [
        {
          "output_type": "stream",
          "text": "total 0\r\n-rw-r--r-- 1 nbuser nbuser 5365 Oct 11 18:37 inflammation-01.csv\r\n-rw-r--r-- 1 nbuser nbuser 5314 Oct 11 18:37 inflammation-02.csv\r\n-rw-r--r-- 1 nbuser nbuser 5127 Oct 11 18:37 inflammation-03.csv\r\n-rw-r--r-- 1 nbuser nbuser 5367 Oct 11 18:37 inflammation-04.csv\r\n-rw-r--r-- 1 nbuser nbuser 5345 Oct 11 18:37 inflammation-05.csv\r\n-rw-r--r-- 1 nbuser nbuser 5330 Oct 11 18:37 inflammation-06.csv\r\n-rw-r--r-- 1 nbuser nbuser 5342 Oct 11 18:37 inflammation-07.csv\r\n-rw-r--r-- 1 nbuser nbuser 5127 Oct 11 18:37 inflammation-08.csv\r\n-rw-r--r-- 1 nbuser nbuser 5327 Oct 11 18:37 inflammation-09.csv\r\n-rw-r--r-- 1 nbuser nbuser 5342 Oct 11 18:37 inflammation-10.csv\r\n-rw-r--r-- 1 nbuser nbuser 5127 Oct 11 18:37 inflammation-11.csv\r\n-rw-r--r-- 1 nbuser nbuser 5340 Oct 11 18:37 inflammation-12.csv\r\n-rw-r--r-- 1 nbuser nbuser   12 Oct 11 18:37 small-01.csv\r\n-rw-r--r-- 1 nbuser nbuser   15 Oct 11 18:37 small-02.csv\r\n-rw-r--r-- 1 nbuser nbuser   12 Oct 11 18:37 small-03.csv\r\n",
          "name": "stdout"
        }
      ]
    },
    {
      "metadata": {
        "trusted": true
      },
      "cell_type": "code",
      "source": "# files that start with 'inf' - large_file\n# files that start with 'sma' - small_file\n# anything else\nfiles = ['inflammation-01.csv', 'inflammation-02.csv', \n         'inflammation-03.csv', 'small-01.csv', 'test.txt']",
      "execution_count": 9,
      "outputs": []
    },
    {
      "metadata": {
        "trusted": true
      },
      "cell_type": "code",
      "source": "#create some empty lists\nlarge_files = []\nsmall_files = []\nother_files = []\n\nfor f in files:\n    if f.startswith('inf'):\n        #large file\n        large_files.append(f)\n    elif f.startswith('sma'):\n        #small file\n        small_files.append(f)\n    else:\n        #other file\n        other_files.append(f)\n        \nprint (large_files)\nprint (small_files)\nprint (other_files)",
      "execution_count": 11,
      "outputs": [
        {
          "output_type": "stream",
          "text": "['inflammation-01.csv', 'inflammation-02.csv', 'inflammation-03.csv']\n['small-01.csv']\n['test.txt']\n",
          "name": "stdout"
        }
      ]
    },
    {
      "metadata": {
        "trusted": true
      },
      "cell_type": "code",
      "source": "",
      "execution_count": null,
      "outputs": []
    }
  ],
  "metadata": {
    "kernelspec": {
      "name": "python36",
      "display_name": "Python 3.6",
      "language": "python"
    },
    "language_info": {
      "mimetype": "text/x-python",
      "nbconvert_exporter": "python",
      "name": "python",
      "pygments_lexer": "ipython3",
      "version": "3.6.6",
      "file_extension": ".py",
      "codemirror_mode": {
        "version": 3,
        "name": "ipython"
      }
    }
  },
  "nbformat": 4,
  "nbformat_minor": 1
}
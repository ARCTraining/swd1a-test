{
  "cells": [
    {
      "metadata": {},
      "cell_type": "markdown",
      "source": "## Repeating actions with Loops"
    },
    {
      "metadata": {
        "trusted": true
      },
      "cell_type": "code",
      "source": "word = 'cheese'\nprint (word[0])\nprint (word[1])",
      "execution_count": 1,
      "outputs": [
        {
          "output_type": "stream",
          "text": "c\nh\n",
          "name": "stdout"
        }
      ]
    },
    {
      "metadata": {
        "trusted": true
      },
      "cell_type": "code",
      "source": "# Use a loop to repeat this action\nword = 'dog'\nfor char in word:\n    print (char)",
      "execution_count": 5,
      "outputs": [
        {
          "output_type": "stream",
          "text": "d\no\ng\n",
          "name": "stdout"
        }
      ]
    },
    {
      "metadata": {
        "trusted": true
      },
      "cell_type": "code",
      "source": "#Another example\n\nlength = 0\nfor vowel in 'aeiou':\n    length = length + 1\n\nprint ('There are:', length, 'vowels')",
      "execution_count": 8,
      "outputs": [
        {
          "output_type": "stream",
          "text": "There are: 5 vowels\n",
          "name": "stdout"
        }
      ]
    },
    {
      "metadata": {
        "trusted": true
      },
      "cell_type": "code",
      "source": "#Loops and numbers\n\nfor i in range (3, 11, 2):\n    print (i)",
      "execution_count": 10,
      "outputs": [
        {
          "output_type": "stream",
          "text": "3\n5\n7\n9\n",
          "name": "stdout"
        }
      ]
    },
    {
      "metadata": {
        "trusted": true
      },
      "cell_type": "code",
      "source": "result = 1\nfor i in range (1, 4):\n    result = result * 5\n    \nprint (result)",
      "execution_count": 12,
      "outputs": [
        {
          "output_type": "stream",
          "text": "125\n",
          "name": "stdout"
        }
      ]
    },
    {
      "metadata": {
        "trusted": true
      },
      "cell_type": "code",
      "source": "# Reversing a string\noriginal = 'Newton'\nnewstring = ''\n\nfor char in original:\n    newstring = char + newstring\n    \nprint (newstring)",
      "execution_count": 13,
      "outputs": [
        {
          "output_type": "stream",
          "text": "notweN\n",
          "name": "stdout"
        }
      ]
    },
    {
      "metadata": {
        "trusted": true
      },
      "cell_type": "code",
      "source": "",
      "execution_count": null,
      "outputs": []
    }
  ],
  "metadata": {
    "kernelspec": {
      "name": "python36",
      "display_name": "Python 3.6",
      "language": "python"
    },
    "language_info": {
      "mimetype": "text/x-python",
      "nbconvert_exporter": "python",
      "name": "python",
      "pygments_lexer": "ipython3",
      "version": "3.6.6",
      "file_extension": ".py",
      "codemirror_mode": {
        "version": 3,
        "name": "ipython"
      }
    }
  },
  "nbformat": 4,
  "nbformat_minor": 1
}
{
  "cells": [
    {
      "metadata": {
        "collapsed": true
      },
      "cell_type": "markdown",
      "source": "## Introductory Python and Notebooks"
    },
    {
      "metadata": {},
      "cell_type": "markdown",
      "source": "### Variables"
    },
    {
      "metadata": {
        "trusted": true
      },
      "cell_type": "code",
      "source": "1 + 2 + 4",
      "execution_count": 1,
      "outputs": [
        {
          "output_type": "execute_result",
          "execution_count": 1,
          "data": {
            "text/plain": "7"
          },
          "metadata": {}
        }
      ]
    },
    {
      "metadata": {
        "trusted": true
      },
      "cell_type": "code",
      "source": "weight_kg = 80",
      "execution_count": 2,
      "outputs": []
    },
    {
      "metadata": {
        "trusted": true
      },
      "cell_type": "code",
      "source": "print (weight_kg)",
      "execution_count": 3,
      "outputs": [
        {
          "output_type": "stream",
          "text": "80\n",
          "name": "stdout"
        }
      ]
    },
    {
      "metadata": {
        "trusted": true
      },
      "cell_type": "code",
      "source": "weight_kg = 80.0",
      "execution_count": 4,
      "outputs": []
    },
    {
      "metadata": {
        "trusted": true
      },
      "cell_type": "code",
      "source": "weight_text = \"Weight in kg.\"",
      "execution_count": 5,
      "outputs": []
    },
    {
      "metadata": {
        "trusted": true
      },
      "cell_type": "code",
      "source": "print (weight_text, weight_kg)",
      "execution_count": 6,
      "outputs": [
        {
          "output_type": "stream",
          "text": "Weight in kg. 80.0\n",
          "name": "stdout"
        }
      ]
    },
    {
      "metadata": {
        "trusted": true
      },
      "cell_type": "code",
      "source": "print ('Weight in pounds:', 2.2 * weight_kg)",
      "execution_count": 7,
      "outputs": [
        {
          "output_type": "stream",
          "text": "Weight in pounds: 176.0\n",
          "name": "stdout"
        }
      ]
    },
    {
      "metadata": {},
      "cell_type": "markdown",
      "source": "### Loading data into Python"
    },
    {
      "metadata": {
        "trusted": true
      },
      "cell_type": "code",
      "source": "# Use the numpy library\nimport numpy",
      "execution_count": 8,
      "outputs": []
    },
    {
      "metadata": {
        "trusted": true
      },
      "cell_type": "code",
      "source": "# Read in the data file\nnumpy.loadtxt (fname = 'data/inflammation-01.csv', delimiter = ',')",
      "execution_count": 10,
      "outputs": [
        {
          "output_type": "execute_result",
          "execution_count": 10,
          "data": {
            "text/plain": "array([[0., 0., 1., ..., 3., 0., 0.],\n       [0., 1., 2., ..., 1., 0., 1.],\n       [0., 1., 1., ..., 2., 1., 1.],\n       ...,\n       [0., 1., 1., ..., 1., 1., 1.],\n       [0., 0., 0., ..., 0., 2., 0.],\n       [0., 0., 1., ..., 1., 1., 0.]])"
          },
          "metadata": {}
        }
      ]
    },
    {
      "metadata": {
        "trusted": true
      },
      "cell_type": "code",
      "source": "data = numpy.loadtxt (fname = 'data/inflammation-01.csv', delimiter = ',')",
      "execution_count": 11,
      "outputs": []
    },
    {
      "metadata": {
        "trusted": true
      },
      "cell_type": "code",
      "source": "print (data)",
      "execution_count": 12,
      "outputs": [
        {
          "output_type": "stream",
          "text": "[[0. 0. 1. ... 3. 0. 0.]\n [0. 1. 2. ... 1. 0. 1.]\n [0. 1. 1. ... 2. 1. 1.]\n ...\n [0. 1. 1. ... 1. 1. 1.]\n [0. 0. 0. ... 0. 2. 0.]\n [0. 0. 1. ... 1. 1. 0.]]\n",
          "name": "stdout"
        }
      ]
    },
    {
      "metadata": {
        "trusted": true
      },
      "cell_type": "code",
      "source": "print (type(data))",
      "execution_count": 13,
      "outputs": [
        {
          "output_type": "stream",
          "text": "<class 'numpy.ndarray'>\n",
          "name": "stdout"
        }
      ]
    },
    {
      "metadata": {
        "trusted": true
      },
      "cell_type": "code",
      "source": "print (data.shape)",
      "execution_count": 14,
      "outputs": [
        {
          "output_type": "stream",
          "text": "(60, 40)\n",
          "name": "stdout"
        }
      ]
    },
    {
      "metadata": {
        "trusted": true
      },
      "cell_type": "code",
      "source": "# data is an array of 60 rows and 40 columns",
      "execution_count": 15,
      "outputs": []
    },
    {
      "metadata": {
        "trusted": true
      },
      "cell_type": "code",
      "source": "print ('First value in data is: ', data[0, 0])",
      "execution_count": 16,
      "outputs": [
        {
          "output_type": "stream",
          "text": "First value in data is:  0.0\n",
          "name": "stdout"
        }
      ]
    },
    {
      "metadata": {
        "trusted": true
      },
      "cell_type": "code",
      "source": "print ('Middle value in data is: ', data[30, 20])",
      "execution_count": 17,
      "outputs": [
        {
          "output_type": "stream",
          "text": "Middle value in data is:  13.0\n",
          "name": "stdout"
        }
      ]
    },
    {
      "metadata": {},
      "cell_type": "markdown",
      "source": "### Slicing data"
    },
    {
      "metadata": {
        "trusted": true
      },
      "cell_type": "code",
      "source": "#First ten columns (first ten days) for the first 4 rows (patients)\nprint (data[0:4, 0:10])",
      "execution_count": 18,
      "outputs": [
        {
          "output_type": "stream",
          "text": "[[0. 0. 1. 3. 1. 2. 4. 7. 8. 3.]\n [0. 1. 2. 1. 2. 1. 3. 2. 2. 6.]\n [0. 1. 1. 3. 3. 2. 6. 2. 5. 9.]\n [0. 0. 2. 0. 4. 2. 2. 1. 6. 7.]]\n",
          "name": "stdout"
        }
      ]
    },
    {
      "metadata": {
        "trusted": true
      },
      "cell_type": "code",
      "source": "# The slice 0:4 means start at 0 and go up to but not including 4. ie. 0,1,2,3",
      "execution_count": 19,
      "outputs": []
    },
    {
      "metadata": {
        "trusted": true
      },
      "cell_type": "code",
      "source": "# We don't have to start at 0\nprint (data [5:10, 0:10])",
      "execution_count": 20,
      "outputs": [
        {
          "output_type": "stream",
          "text": "[[0. 0. 1. 2. 2. 4. 2. 1. 6. 4.]\n [0. 0. 2. 2. 4. 2. 2. 5. 5. 8.]\n [0. 0. 1. 2. 3. 1. 2. 3. 5. 3.]\n [0. 0. 0. 3. 1. 5. 6. 5. 5. 8.]\n [0. 1. 1. 2. 1. 3. 5. 3. 5. 8.]]\n",
          "name": "stdout"
        }
      ]
    },
    {
      "metadata": {
        "trusted": true
      },
      "cell_type": "code",
      "source": "# Don't have to include upper and lower bounds\nsmall = data [:3, 36:]\nprint ('small is:')\nprint (small)",
      "execution_count": 21,
      "outputs": [
        {
          "output_type": "stream",
          "text": "small is:\n[[2. 3. 0. 0.]\n [1. 1. 0. 1.]\n [2. 2. 1. 1.]]\n",
          "name": "stdout"
        }
      ]
    },
    {
      "metadata": {},
      "cell_type": "markdown",
      "source": "### Array-wise operations"
    },
    {
      "metadata": {
        "trusted": true
      },
      "cell_type": "code",
      "source": "doubledata = data * 2.0",
      "execution_count": 23,
      "outputs": []
    },
    {
      "metadata": {
        "trusted": true
      },
      "cell_type": "code",
      "source": "print ('Original:')\nprint (data[:3, 36:])\nprint ('Doubledata:')\nprint (doubledata[:3, 36:])",
      "execution_count": 24,
      "outputs": [
        {
          "output_type": "stream",
          "text": "Original:\n[[2. 3. 0. 0.]\n [1. 1. 0. 1.]\n [2. 2. 1. 1.]]\nDoubledata:\n[[4. 6. 0. 0.]\n [2. 2. 0. 2.]\n [4. 4. 2. 2.]]\n",
          "name": "stdout"
        }
      ]
    },
    {
      "metadata": {
        "trusted": true
      },
      "cell_type": "code",
      "source": "# To find out the mean value of all thye elements of data\nprint (numpy.mean(data))",
      "execution_count": 25,
      "outputs": [
        {
          "output_type": "stream",
          "text": "6.14875\n",
          "name": "stdout"
        }
      ]
    },
    {
      "metadata": {
        "trusted": true
      },
      "cell_type": "code",
      "source": "maxval, minval, stdval = numpy.max(data), numpy.min(data), numpy.std(data)\nprint ('Maximum', maxval)\nprint ('Minimum', minval)\nprint ('Standard deviation', stdval)",
      "execution_count": 26,
      "outputs": [
        {
          "output_type": "stream",
          "text": "Maximum 20.0\nMinimum 0.0\nStandard deviation 4.613833197118566\n",
          "name": "stdout"
        }
      ]
    },
    {
      "metadata": {
        "trusted": true
      },
      "cell_type": "code",
      "source": "numpy.min?",
      "execution_count": 27,
      "outputs": []
    },
    {
      "metadata": {},
      "cell_type": "markdown",
      "source": "### Axes"
    },
    {
      "metadata": {
        "trusted": true
      },
      "cell_type": "code",
      "source": "# Mean inflammation for each day\n# Days are represented by columns\n# Columns are axis = 0\n\nprint (numpy.mean(data, axis=0))",
      "execution_count": 28,
      "outputs": [
        {
          "output_type": "stream",
          "text": "[ 0.          0.45        1.11666667  1.75        2.43333333  3.15\n  3.8         3.88333333  5.23333333  5.51666667  5.95        5.9\n  8.35        7.73333333  8.36666667  9.5         9.58333333 10.63333333\n 11.56666667 12.35       13.25       11.96666667 11.03333333 10.16666667\n 10.          8.66666667  9.15        7.25        7.33333333  6.58333333\n  6.06666667  5.95        5.11666667  3.6         3.3         3.56666667\n  2.48333333  1.5         1.13333333  0.56666667]\n",
          "name": "stdout"
        }
      ]
    },
    {
      "metadata": {
        "trusted": true
      },
      "cell_type": "code",
      "source": "# Quick shape check\nprint (numpy.mean(data, axis=0).shape)",
      "execution_count": 29,
      "outputs": [
        {
          "output_type": "stream",
          "text": "(40,)\n",
          "name": "stdout"
        }
      ]
    },
    {
      "metadata": {
        "trusted": true
      },
      "cell_type": "code",
      "source": "# Average inflammation per patient across all the days\nprint (numpy.mean(data, axis=1))",
      "execution_count": 30,
      "outputs": [
        {
          "output_type": "stream",
          "text": "[5.45  5.425 6.1   5.9   5.55  6.225 5.975 6.65  6.625 6.525 6.775 5.8\n 6.225 5.75  5.225 6.3   6.55  5.7   5.85  6.55  5.775 5.825 6.175 6.1\n 5.8   6.425 6.05  6.025 6.175 6.55  6.175 6.35  6.725 6.125 7.075 5.725\n 5.925 6.15  6.075 5.75  5.975 5.725 6.3   5.9   6.75  5.925 7.225 6.15\n 5.95  6.275 5.7   6.1   6.825 5.975 6.725 5.7   6.25  6.4   7.05  5.9  ]\n",
          "name": "stdout"
        }
      ]
    },
    {
      "metadata": {
        "trusted": true
      },
      "cell_type": "code",
      "source": "print (numpy.mean(data, axis=1).shape)",
      "execution_count": 31,
      "outputs": [
        {
          "output_type": "stream",
          "text": "(60,)\n",
          "name": "stdout"
        }
      ]
    },
    {
      "metadata": {},
      "cell_type": "markdown",
      "source": "### Visualising data"
    },
    {
      "metadata": {
        "trusted": true
      },
      "cell_type": "code",
      "source": "%matplotlib inline\nimport matplotlib.pyplot as plt\nimage = plt.imshow(data)\nplt.show()",
      "execution_count": 33,
      "outputs": [
        {
          "output_type": "display_data",
          "data": {
            "image/png": "[encoded data removed]",
            "text/plain": "<matplotlib.figure.Figure at 0x7fa88c8eeb70>"
          },
          "metadata": {}
        }
      ]
    },
    {
      "metadata": {
        "trusted": true
      },
      "cell_type": "code",
      "source": "# Looking at the average inflammation\nave_inflammation = numpy.mean(data, axis = 0)\nave_plot = plt.plot (ave_inflammation)\nplt.show()",
      "execution_count": 34,
      "outputs": [
        {
          "output_type": "display_data",
          "data": {
            "image/png": "[encoded data removed]",
            "text/plain": "<matplotlib.figure.Figure at 0x7fa88cd936a0>"
          },
          "metadata": {}
        }
      ]
    },
    {
      "metadata": {
        "trusted": true
      },
      "cell_type": "code",
      "source": "# Look at the maxima\nmax_plot = plt.plot (numpy.max (data, axis=0))\nplt.show()",
      "execution_count": 35,
      "outputs": [
        {
          "output_type": "display_data",
          "data": {
            "image/png": "[encoded data removed]",
            "text/plain": "<matplotlib.figure.Figure at 0x7fa892300be0>"
          },
          "metadata": {}
        }
      ]
    },
    {
      "metadata": {
        "trusted": true
      },
      "cell_type": "code",
      "source": "min_plot = plt.plot (numpy.min (data, axis=0))\nplt.show()",
      "execution_count": 36,
      "outputs": [
        {
          "output_type": "display_data",
          "data": {
            "image/png": "[encoded data removed]",
            "text/plain": "<matplotlib.figure.Figure at 0x7fa8922e9f98>"
          },
          "metadata": {}
        }
      ]
    },
    {
      "metadata": {
        "trusted": true
      },
      "cell_type": "code",
      "source": "# Slicing strings exercise\nelement = 'oxygen'\nprint (element [0:3])\nprint (element [3:6])\n\n",
      "execution_count": 1,
      "outputs": [
        {
          "output_type": "stream",
          "text": "oxy\ngen\n",
          "name": "stdout"
        }
      ]
    },
    {
      "metadata": {
        "trusted": true
      },
      "cell_type": "code",
      "source": "print (element [:4])\nprint (element [4:])\nprint (element [:])",
      "execution_count": 2,
      "outputs": [
        {
          "output_type": "stream",
          "text": "oxyg\nen\noxygen\n",
          "name": "stdout"
        }
      ]
    },
    {
      "metadata": {
        "trusted": true
      },
      "cell_type": "code",
      "source": "print (element [-1])\nprint (element [2:-2])",
      "execution_count": 3,
      "outputs": [
        {
          "output_type": "stream",
          "text": "n\nyg\n",
          "name": "stdout"
        }
      ]
    },
    {
      "metadata": {
        "trusted": true
      },
      "cell_type": "code",
      "source": "",
      "execution_count": null,
      "outputs": []
    }
  ],
  "metadata": {
    "kernelspec": {
      "name": "python36",
      "display_name": "Python 3.6",
      "language": "python"
    },
    "language_info": {
      "mimetype": "text/x-python",
      "nbconvert_exporter": "python",
      "name": "python",
      "pygments_lexer": "ipython3",
      "version": "3.6.6",
      "file_extension": ".py",
      "codemirror_mode": {
        "version": 3,
        "name": "ipython"
      }
    }
  },
  "nbformat": 4,
  "nbformat_minor": 2
}
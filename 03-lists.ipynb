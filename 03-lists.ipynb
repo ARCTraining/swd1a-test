{
  "cells": [
    {
      "metadata": {},
      "cell_type": "markdown",
      "source": "## Lists in Python"
    },
    {
      "metadata": {},
      "cell_type": "markdown",
      "source": "* Lists allow us to store multiple values in the same 'object'\n* They are simpler than numpy arrays\n* Sometimes easier to use"
    },
    {
      "metadata": {
        "trusted": true
      },
      "cell_type": "code",
      "source": "#Create an empty list\nlottery_numbers = []\n\n#Create a list of values\nodds = [1, 3, 5, 7, 9]\n\nprint (lottery_numbers)\nprint (odds)",
      "execution_count": 1,
      "outputs": [
        {
          "output_type": "stream",
          "text": "[]\n[1, 3, 5, 7, 9]\n",
          "name": "stdout"
        }
      ]
    },
    {
      "metadata": {
        "trusted": true
      },
      "cell_type": "code",
      "source": "# Lists are indexable and slicable\nprint (odds[0], odds[-1])\nprint (odds[1:4])",
      "execution_count": 3,
      "outputs": [
        {
          "output_type": "stream",
          "text": "1 9\n[3, 5, 7]\n",
          "name": "stdout"
        }
      ]
    },
    {
      "metadata": {
        "trusted": true
      },
      "cell_type": "code",
      "source": "# Lists are iterable\nfor number in odds:\n    print (number)",
      "execution_count": 4,
      "outputs": [
        {
          "output_type": "stream",
          "text": "1\n3\n5\n7\n9\n",
          "name": "stdout"
        }
      ]
    },
    {
      "metadata": {
        "trusted": true
      },
      "cell_type": "code",
      "source": "# Lists can also contain strings\nscientists = ['Curie', 'Darwing', 'Turing']\nprint (scientists)",
      "execution_count": 5,
      "outputs": [
        {
          "output_type": "stream",
          "text": "['Curie', 'Darwing', 'Turing']\n",
          "name": "stdout"
        }
      ]
    },
    {
      "metadata": {
        "trusted": true
      },
      "cell_type": "code",
      "source": "# A mistake- lets change it!\nscientists[1] = 'Darwin'\nprint (scientists)",
      "execution_count": 6,
      "outputs": [
        {
          "output_type": "stream",
          "text": "['Curie', 'Darwin', 'Turing']\n",
          "name": "stdout"
        }
      ]
    },
    {
      "metadata": {
        "trusted": true
      },
      "cell_type": "code",
      "source": "#The elements of lists can be changed in place- we call this 'mutable'",
      "execution_count": 7,
      "outputs": []
    },
    {
      "metadata": {
        "trusted": true
      },
      "cell_type": "code",
      "source": "name = 'Darwing'\nname[-1]=''",
      "execution_count": 8,
      "outputs": [
        {
          "output_type": "error",
          "ename": "TypeError",
          "evalue": "'str' object does not support item assignment",
          "traceback": [
            "\u001b[0;31m---------------------------------------------------------------------------\u001b[0m",
            "\u001b[0;31mTypeError\u001b[0m                                 Traceback (most recent call last)",
            "\u001b[0;32m<ipython-input-8-f41786ded729>\u001b[0m in \u001b[0;36m<module>\u001b[0;34m()\u001b[0m\n\u001b[1;32m      1\u001b[0m \u001b[0mname\u001b[0m \u001b[0;34m=\u001b[0m \u001b[0;34m'Darwing'\u001b[0m\u001b[0;34m\u001b[0m\u001b[0m\n\u001b[0;32m----> 2\u001b[0;31m \u001b[0mname\u001b[0m\u001b[0;34m[\u001b[0m\u001b[0;34m-\u001b[0m\u001b[0;36m1\u001b[0m\u001b[0;34m]\u001b[0m\u001b[0;34m=\u001b[0m\u001b[0;34m''\u001b[0m\u001b[0;34m\u001b[0m\u001b[0m\n\u001b[0m",
            "\u001b[0;31mTypeError\u001b[0m: 'str' object does not support item assignment"
          ]
        }
      ]
    },
    {
      "metadata": {
        "trusted": true
      },
      "cell_type": "code",
      "source": "#Strings are different- they cannot have elements changed- they are immutable",
      "execution_count": null,
      "outputs": []
    },
    {
      "metadata": {
        "trusted": true
      },
      "cell_type": "code",
      "source": "# More with lists\n# They can contain mixed data types\nsample_ages = [10, 12.5, 'Unknown']",
      "execution_count": 9,
      "outputs": []
    },
    {
      "metadata": {
        "trusted": true
      },
      "cell_type": "code",
      "source": "#Append items to lists\nodds.append(11)\nprint (odds)",
      "execution_count": 10,
      "outputs": [
        {
          "output_type": "stream",
          "text": "[1, 3, 5, 7, 9, 11]\n",
          "name": "stdout"
        }
      ]
    },
    {
      "metadata": {
        "trusted": true
      },
      "cell_type": "code",
      "source": "#Remove items\ndel odds[0]\nprint (odds)",
      "execution_count": 11,
      "outputs": [
        {
          "output_type": "stream",
          "text": "[3, 5, 7, 9, 11]\n",
          "name": "stdout"
        }
      ]
    },
    {
      "metadata": {
        "trusted": true
      },
      "cell_type": "code",
      "source": "#Reverse items in lists\nodds.reverse()\nprint (odds)",
      "execution_count": 12,
      "outputs": [
        {
          "output_type": "stream",
          "text": "[11, 9, 7, 5, 3]\n",
          "name": "stdout"
        }
      ]
    },
    {
      "metadata": {
        "trusted": true
      },
      "cell_type": "code",
      "source": "",
      "execution_count": null,
      "outputs": []
    }
  ],
  "metadata": {
    "kernelspec": {
      "name": "python36",
      "display_name": "Python 3.6",
      "language": "python"
    },
    "language_info": {
      "mimetype": "text/x-python",
      "nbconvert_exporter": "python",
      "name": "python",
      "pygments_lexer": "ipython3",
      "version": "3.6.6",
      "file_extension": ".py",
      "codemirror_mode": {
        "version": 3,
        "name": "ipython"
      }
    }
  },
  "nbformat": 4,
  "nbformat_minor": 1
}